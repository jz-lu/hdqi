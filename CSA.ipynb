{
 "cells": [
  {
   "cell_type": "markdown",
   "id": "74aacdfc",
   "metadata": {},
   "source": [
    "# Process Clifford annealing output"
   ]
  },
  {
   "cell_type": "code",
   "execution_count": 50,
   "id": "579d805b",
   "metadata": {},
   "outputs": [],
   "source": [
    "import os\n",
    "import re\n",
    "import glob\n",
    "import numpy as np\n",
    "import pandas as pd\n",
    "import matplotlib.pyplot as plt\n",
    "plt.rcParams['text.usetex'] = True\n",
    "\n",
    "def load_and_summarize(path):\n",
    "    # Regex to extract n, m, k from filename CSA_<n>_<m>_<k>.npy\n",
    "    pattern = re.compile(r\"CSA_(\\d+)_(\\d+)_(\\d+)\\.npy\")\n",
    "\n",
    "    rows = []\n",
    "\n",
    "    # Iterate over all matching files\n",
    "    for fname in glob.glob(os.path.join(path, \"CSA_*_*_*.npy\")):\n",
    "        m = pattern.search(os.path.basename(fname))\n",
    "        if not m:\n",
    "            continue\n",
    "        n, m_val, k = map(int, m.groups())\n",
    "        ratio = m_val // n  # int(m/n)\n",
    "\n",
    "        arr = np.load(fname) * 100\n",
    "\n",
    "        for trial, val in enumerate(arr):\n",
    "            rows.append({\n",
    "                \"n\": n,\n",
    "                \"r\": ratio,\n",
    "                \"k\": k,\n",
    "                \"trial\": trial,\n",
    "                \"value\": val[0]\n",
    "            })\n",
    "\n",
    "    df = pd.DataFrame(rows)\n",
    "\n",
    "    # Compute summary statistics\n",
    "    summary = (\n",
    "        df.groupby([\"n\", \"r\", \"k\"])[\"value\"]\n",
    "        .agg([\"mean\", \"std\"])\n",
    "        .reset_index()\n",
    "    )\n",
    "\n",
    "    summary[[\"mean\", \"std\"]] = summary[[\"mean\", \"std\"]].round(2)\n",
    "\n",
    "    return df, summary\n"
   ]
  },
  {
   "cell_type": "code",
   "execution_count": 54,
   "id": "292688ce",
   "metadata": {},
   "outputs": [
    {
     "name": "stdout",
     "output_type": "stream",
     "text": [
      "       n   r  k   mean   std\n",
      "0   1200   3  3  78.20  0.31\n",
      "1   1200   3  4  77.22  0.35\n",
      "2   1200   3  5  75.84  0.39\n",
      "3   1200   3  6  74.60  0.32\n",
      "4   1200   6  3  70.18  0.25\n",
      "5   1200   6  4  69.44  0.23\n",
      "6   1200   6  5  68.56  0.25\n",
      "7   1200   6  6  67.65  0.30\n",
      "8   1200  10  3  65.59  0.22\n",
      "9   1200  10  4  64.98  0.20\n",
      "10  1200  10  5  64.33  0.21\n",
      "11  1200  10  6  63.72  0.19\n"
     ]
    }
   ],
   "source": [
    "df, summary = load_and_summarize(\"/Users/jzlu/Dropbox/data_hdqi/CSA\")\n",
    "\n",
    "\n",
    "with pd.option_context(\"display.max_rows\", None, \"display.max_columns\", None):\n",
    "    print(summary[summary[\"n\"] == 1200])"
   ]
  },
  {
   "cell_type": "code",
   "execution_count": null,
   "id": "2d28bb35",
   "metadata": {},
   "outputs": [],
   "source": []
  },
  {
   "cell_type": "code",
   "execution_count": null,
   "id": "57d41ac6",
   "metadata": {},
   "outputs": [],
   "source": []
  }
 ],
 "metadata": {
  "kernelspec": {
   "display_name": "base",
   "language": "python",
   "name": "python3"
  },
  "language_info": {
   "codemirror_mode": {
    "name": "ipython",
    "version": 3
   },
   "file_extension": ".py",
   "mimetype": "text/x-python",
   "name": "python",
   "nbconvert_exporter": "python",
   "pygments_lexer": "ipython3",
   "version": "3.12.2"
  }
 },
 "nbformat": 4,
 "nbformat_minor": 5
}
