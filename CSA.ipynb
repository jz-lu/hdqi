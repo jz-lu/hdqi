{
 "cells": [
  {
   "cell_type": "markdown",
   "id": "74aacdfc",
   "metadata": {},
   "source": [
    "# Process Clifford annealing output"
   ]
  },
  {
   "cell_type": "code",
   "execution_count": 24,
   "id": "579d805b",
   "metadata": {},
   "outputs": [],
   "source": [
    "import os\n",
    "import re\n",
    "import glob\n",
    "import numpy as np\n",
    "import pandas as pd\n",
    "\n",
    "def load_and_summarize(path):\n",
    "    # Regex to extract n, m, k from filename CSA_<n>_<m>_<k>.npy\n",
    "    pattern = re.compile(r\"CSA_(\\d+)_(\\d+)_(\\d+)\\.npy\")\n",
    "\n",
    "    rows = []\n",
    "\n",
    "    # Iterate over all matching files\n",
    "    for fname in glob.glob(os.path.join(path, \"CSA_*_*_*.npy\")):\n",
    "        m = pattern.search(os.path.basename(fname))\n",
    "        if not m:\n",
    "            continue\n",
    "        n, m_val, k = map(int, m.groups())\n",
    "        ratio = m_val // n  # int(m/n)\n",
    "\n",
    "        arr = np.load(fname) * 100\n",
    "\n",
    "        for trial, val in enumerate(arr):\n",
    "            rows.append({\n",
    "                \"n\": n,\n",
    "                \"r\": ratio,\n",
    "                \"k\": k,\n",
    "                \"trial\": trial,\n",
    "                \"value\": val\n",
    "            })\n",
    "\n",
    "    df = pd.DataFrame(rows)\n",
    "\n",
    "    # Compute summary statistics\n",
    "    summary = (\n",
    "        df.groupby([\"n\", \"r\", \"k\"])[\"value\"]\n",
    "        .agg([\"mean\", \"std\"])\n",
    "        .reset_index()\n",
    "    )\n",
    "\n",
    "    summary[[\"mean\", \"std\"]] = summary[[\"mean\", \"std\"]].round(2)\n",
    "\n",
    "    return df, summary\n"
   ]
  },
  {
   "cell_type": "code",
   "execution_count": null,
   "id": "292688ce",
   "metadata": {},
   "outputs": [
    {
     "name": "stdout",
     "output_type": "stream",
     "text": [
      "hi\n",
      "      n   r  k   mean   std\n",
      "36  800   3  3  77.92  0.29\n",
      "37  800   3  4  76.87  0.32\n",
      "38  800   3  5  75.68  0.30\n",
      "39  800   3  6  74.60  0.51\n",
      "40  800   6  3  70.10  0.26\n",
      "41  800   6  4  69.35  0.29\n",
      "42  800   6  5  68.56  0.28\n",
      "43  800   6  6  67.46  0.21\n",
      "44  800  10  3  65.44  0.31\n",
      "45  800  10  4  64.81  0.18\n",
      "46  800  10  5  64.31  0.27\n",
      "47  800  10  6  63.60  0.32\n"
     ]
    }
   ],
   "source": [
    "df, summary = load_and_summarize(\"/Users/jzlu/Dropbox/data_hdqi/CSA\")\n",
    "\n",
    "summary_800 = summary[summary[\"n\"] == 800]\n",
    "\n",
    "with pd.option_context(\"display.max_rows\", None, \"display.max_columns\", None):\n",
    "        print(summary_800)"
   ]
  },
  {
   "cell_type": "code",
   "execution_count": null,
   "id": "2d28bb35",
   "metadata": {},
   "outputs": [],
   "source": []
  }
 ],
 "metadata": {
  "kernelspec": {
   "display_name": "base",
   "language": "python",
   "name": "python3"
  },
  "language_info": {
   "codemirror_mode": {
    "name": "ipython",
    "version": 3
   },
   "file_extension": ".py",
   "mimetype": "text/x-python",
   "name": "python",
   "nbconvert_exporter": "python",
   "pygments_lexer": "ipython3",
   "version": "3.12.2"
  }
 },
 "nbformat": 4,
 "nbformat_minor": 5
}
